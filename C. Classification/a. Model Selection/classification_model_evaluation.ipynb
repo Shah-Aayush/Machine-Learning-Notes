{
  "nbformat": 4,
  "nbformat_minor": 0,
  "metadata": {
    "colab": {
      "name": "classification_model_evaluation.ipynb",
      "provenance": [],
      "collapsed_sections": [
        "ToqWn0Wq1MPw",
        "134DDfMG1FfZ"
      ]
    },
    "kernelspec": {
      "name": "python3",
      "display_name": "Python 3"
    },
    "language_info": {
      "name": "python"
    }
  },
  "cells": [
    {
      "cell_type": "markdown",
      "metadata": {
        "id": "8OkbEM9Tdb3O"
      },
      "source": [
        "## Importing the libraries"
      ]
    },
    {
      "cell_type": "code",
      "metadata": {
        "id": "55tD6oc2dENH"
      },
      "source": [
        "import numpy as np\n",
        "import pandas as pd\n",
        "import matplotlib.pyplot as plt"
      ],
      "execution_count": 140,
      "outputs": []
    },
    {
      "cell_type": "markdown",
      "metadata": {
        "id": "FVTXf2IneOSm"
      },
      "source": [
        "## Importing the dataset"
      ]
    },
    {
      "cell_type": "code",
      "metadata": {
        "id": "_Mao5ZtBeRhb"
      },
      "source": [
        "dataset = pd.read_csv('Data.csv')\n",
        "X = dataset.iloc[:,1:-1].values   # Excluding the `sample code number`\n",
        "y = dataset.iloc[:,-1].values"
      ],
      "execution_count": 141,
      "outputs": []
    },
    {
      "cell_type": "code",
      "metadata": {
        "colab": {
          "base_uri": "https://localhost:8080/"
        },
        "id": "3X8rppB2ebeE",
        "outputId": "c82ceaa6-d5e1-4ac1-8102-d3a10f22b132"
      },
      "source": [
        "pd.set_option('display.max_columns', None)    # setting to display all columns in pandas dataframe\n",
        "print(dataset.head())"
      ],
      "execution_count": 142,
      "outputs": [
        {
          "output_type": "stream",
          "name": "stdout",
          "text": [
            "   Sample code number  Clump Thickness  Uniformity of Cell Size  \\\n",
            "0             1000025                5                        1   \n",
            "1             1002945                5                        4   \n",
            "2             1015425                3                        1   \n",
            "3             1016277                6                        8   \n",
            "4             1017023                4                        1   \n",
            "\n",
            "   Uniformity of Cell Shape  Marginal Adhesion  Single Epithelial Cell Size  \\\n",
            "0                         1                  1                            2   \n",
            "1                         4                  5                            7   \n",
            "2                         1                  1                            2   \n",
            "3                         8                  1                            3   \n",
            "4                         1                  3                            2   \n",
            "\n",
            "   Bare Nuclei  Bland Chromatin  Normal Nucleoli  Mitoses  Class  \n",
            "0            1                3                1        1      2  \n",
            "1           10                3                2        1      2  \n",
            "2            2                3                1        1      2  \n",
            "3            4                3                7        1      2  \n",
            "4            1                3                1        1      2  \n"
          ]
        }
      ]
    },
    {
      "cell_type": "markdown",
      "metadata": {
        "id": "M8-iAJ5Ee3sj"
      },
      "source": [
        "## Splitting the dataset into the Training set and Testing set"
      ]
    },
    {
      "cell_type": "code",
      "metadata": {
        "id": "Xrvztusie3dT"
      },
      "source": [
        "from sklearn.model_selection import train_test_split\n",
        "X_train, X_test, y_train, y_test = train_test_split(X, y, test_size=0.25, random_state=0)"
      ],
      "execution_count": 143,
      "outputs": []
    },
    {
      "cell_type": "markdown",
      "metadata": {
        "id": "qmtHGlK7iRp7"
      },
      "source": [
        "## Feature Scaling"
      ]
    },
    {
      "cell_type": "code",
      "metadata": {
        "id": "6lENkV1fiTWt"
      },
      "source": [
        "from sklearn.preprocessing import StandardScaler\n",
        "sc = StandardScaler()\n",
        "X_train = sc.fit_transform(X_train)\n",
        "X_test = sc.transform(X_test)"
      ],
      "execution_count": 144,
      "outputs": []
    },
    {
      "cell_type": "markdown",
      "metadata": {
        "id": "pgRrClYiipiP"
      },
      "source": [
        "## Training various models on the Training set"
      ]
    },
    {
      "cell_type": "markdown",
      "metadata": {
        "id": "yOZCwkm4iv6G"
      },
      "source": [
        "### 1. Logistic Regression"
      ]
    },
    {
      "cell_type": "code",
      "metadata": {
        "colab": {
          "base_uri": "https://localhost:8080/"
        },
        "id": "65eNNdLhis93",
        "outputId": "b5a9ed7a-1369-43e7-c4a3-8ccada74fb7b"
      },
      "source": [
        "from sklearn.linear_model import LogisticRegression\n",
        "clf_lr = LogisticRegression(random_state=0)\n",
        "clf_lr.fit(X_train, y_train)"
      ],
      "execution_count": 145,
      "outputs": [
        {
          "output_type": "execute_result",
          "data": {
            "text/plain": [
              "LogisticRegression(C=1.0, class_weight=None, dual=False, fit_intercept=True,\n",
              "                   intercept_scaling=1, l1_ratio=None, max_iter=100,\n",
              "                   multi_class='auto', n_jobs=None, penalty='l2',\n",
              "                   random_state=0, solver='lbfgs', tol=0.0001, verbose=0,\n",
              "                   warm_start=False)"
            ]
          },
          "metadata": {},
          "execution_count": 145
        }
      ]
    },
    {
      "cell_type": "code",
      "metadata": {
        "id": "4iDZ26ARneLU"
      },
      "source": [
        "y_pred_lr = clf_lr.predict(X_test)"
      ],
      "execution_count": 146,
      "outputs": []
    },
    {
      "cell_type": "markdown",
      "metadata": {
        "id": "1Ainl25pi2lI"
      },
      "source": [
        "### 2. K-Nearest Neighbor (K-NN)"
      ]
    },
    {
      "cell_type": "code",
      "metadata": {
        "colab": {
          "base_uri": "https://localhost:8080/"
        },
        "id": "tcBGFfzli6PX",
        "outputId": "d99f4870-7d90-41a7-d25b-6f84b68ff9b9"
      },
      "source": [
        "from sklearn.neighbors import KNeighborsClassifier\n",
        "clf_knn = KNeighborsClassifier(n_neighbors = 5, metric = 'minkowski', p = 2)\n",
        "clf_knn.fit(X_train, y_train)"
      ],
      "execution_count": 147,
      "outputs": [
        {
          "output_type": "execute_result",
          "data": {
            "text/plain": [
              "KNeighborsClassifier(algorithm='auto', leaf_size=30, metric='minkowski',\n",
              "                     metric_params=None, n_jobs=None, n_neighbors=5, p=2,\n",
              "                     weights='uniform')"
            ]
          },
          "metadata": {},
          "execution_count": 147
        }
      ]
    },
    {
      "cell_type": "code",
      "metadata": {
        "id": "V24sNEJOnmmh"
      },
      "source": [
        "y_pred_knn = clf_knn.predict(X_test)"
      ],
      "execution_count": 148,
      "outputs": []
    },
    {
      "cell_type": "markdown",
      "metadata": {
        "id": "xRNM9YV-i70B"
      },
      "source": [
        "### 3. Support Vector Machine (SVM)"
      ]
    },
    {
      "cell_type": "code",
      "metadata": {
        "colab": {
          "base_uri": "https://localhost:8080/"
        },
        "id": "v2iafT5ljQQU",
        "outputId": "e690bb77-9011-4e1c-d17b-0f0be032a094"
      },
      "source": [
        "from sklearn.svm import SVC\n",
        "clf_svc = SVC(kernel='linear', random_state=0)\n",
        "clf_svc.fit(X_train, y_train)"
      ],
      "execution_count": 149,
      "outputs": [
        {
          "output_type": "execute_result",
          "data": {
            "text/plain": [
              "SVC(C=1.0, break_ties=False, cache_size=200, class_weight=None, coef0=0.0,\n",
              "    decision_function_shape='ovr', degree=3, gamma='scale', kernel='linear',\n",
              "    max_iter=-1, probability=False, random_state=0, shrinking=True, tol=0.001,\n",
              "    verbose=False)"
            ]
          },
          "metadata": {},
          "execution_count": 149
        }
      ]
    },
    {
      "cell_type": "code",
      "metadata": {
        "id": "G0B_x0wVnqo3"
      },
      "source": [
        "y_pred_svc = clf_svc.predict(X_test)"
      ],
      "execution_count": 150,
      "outputs": []
    },
    {
      "cell_type": "markdown",
      "metadata": {
        "id": "7L1ihmvSi9ke"
      },
      "source": [
        "### 4. Kernel SVM"
      ]
    },
    {
      "cell_type": "code",
      "metadata": {
        "colab": {
          "base_uri": "https://localhost:8080/"
        },
        "id": "Z2WzMy1ojQ6S",
        "outputId": "fd98a754-805f-4031-b304-2b2f1bb2df21"
      },
      "source": [
        "from sklearn.svm import SVC\n",
        "clf_kernelSVC = SVC(kernel='rbf', random_state=0)\n",
        "clf_kernelSVC.fit(X_train, y_train)"
      ],
      "execution_count": 151,
      "outputs": [
        {
          "output_type": "execute_result",
          "data": {
            "text/plain": [
              "SVC(C=1.0, break_ties=False, cache_size=200, class_weight=None, coef0=0.0,\n",
              "    decision_function_shape='ovr', degree=3, gamma='scale', kernel='rbf',\n",
              "    max_iter=-1, probability=False, random_state=0, shrinking=True, tol=0.001,\n",
              "    verbose=False)"
            ]
          },
          "metadata": {},
          "execution_count": 151
        }
      ]
    },
    {
      "cell_type": "code",
      "metadata": {
        "id": "-U7ZCmDFnuUh"
      },
      "source": [
        "y_pred_kernelSVC = clf_kernelSVC.predict(X_test)"
      ],
      "execution_count": 152,
      "outputs": []
    },
    {
      "cell_type": "markdown",
      "metadata": {
        "id": "A8hgcntbi95L"
      },
      "source": [
        "### 5. Naïve Bayes"
      ]
    },
    {
      "cell_type": "code",
      "metadata": {
        "colab": {
          "base_uri": "https://localhost:8080/"
        },
        "id": "lSo_pJ-RjRWl",
        "outputId": "3f8c52f7-8864-4f0e-f0b5-201f24a06bd7"
      },
      "source": [
        "from sklearn.naive_bayes import GaussianNB\n",
        "clf_nb = GaussianNB()\n",
        "clf_nb.fit(X_train, y_train)"
      ],
      "execution_count": 153,
      "outputs": [
        {
          "output_type": "execute_result",
          "data": {
            "text/plain": [
              "GaussianNB(priors=None, var_smoothing=1e-09)"
            ]
          },
          "metadata": {},
          "execution_count": 153
        }
      ]
    },
    {
      "cell_type": "code",
      "metadata": {
        "id": "OZqRioOdnynH"
      },
      "source": [
        "y_pred_nb = clf_nb.predict(X_test)"
      ],
      "execution_count": 154,
      "outputs": []
    },
    {
      "cell_type": "markdown",
      "metadata": {
        "id": "Rs8juZfsi-L5"
      },
      "source": [
        "### 6. Decision Tree"
      ]
    },
    {
      "cell_type": "markdown",
      "metadata": {
        "id": "YsgC2clilf0q"
      },
      "source": [
        "  #### 6.1 with **GINI**"
      ]
    },
    {
      "cell_type": "code",
      "metadata": {
        "colab": {
          "base_uri": "https://localhost:8080/"
        },
        "id": "UXeNTMA9jRy0",
        "outputId": "2259a970-b325-4167-9c29-0655c69b12ac"
      },
      "source": [
        "from sklearn.tree import DecisionTreeClassifier\n",
        "clf_dtGINI = DecisionTreeClassifier(criterion='gini',  random_state=0)\n",
        "clf_dtGINI.fit(X_train, y_train)"
      ],
      "execution_count": 155,
      "outputs": [
        {
          "output_type": "execute_result",
          "data": {
            "text/plain": [
              "DecisionTreeClassifier(ccp_alpha=0.0, class_weight=None, criterion='gini',\n",
              "                       max_depth=None, max_features=None, max_leaf_nodes=None,\n",
              "                       min_impurity_decrease=0.0, min_impurity_split=None,\n",
              "                       min_samples_leaf=1, min_samples_split=2,\n",
              "                       min_weight_fraction_leaf=0.0, presort='deprecated',\n",
              "                       random_state=0, splitter='best')"
            ]
          },
          "metadata": {},
          "execution_count": 155
        }
      ]
    },
    {
      "cell_type": "code",
      "metadata": {
        "id": "S_bfDXk7n97w"
      },
      "source": [
        "y_pred_dtGINI = clf_dtGINI.predict(X_test)"
      ],
      "execution_count": 156,
      "outputs": []
    },
    {
      "cell_type": "markdown",
      "metadata": {
        "id": "LdhIncCKljZU"
      },
      "source": [
        "  #### 6.2 with **ENTROPY**"
      ]
    },
    {
      "cell_type": "code",
      "metadata": {
        "colab": {
          "base_uri": "https://localhost:8080/"
        },
        "id": "YSPDMOEalsxt",
        "outputId": "9d491d7f-b27c-4405-c917-b0c05d7f8f5a"
      },
      "source": [
        "from sklearn.tree import DecisionTreeClassifier\n",
        "clf_dtENTROPY = DecisionTreeClassifier(criterion='entropy',  random_state=0)\n",
        "clf_dtENTROPY.fit(X_train, y_train)"
      ],
      "execution_count": 157,
      "outputs": [
        {
          "output_type": "execute_result",
          "data": {
            "text/plain": [
              "DecisionTreeClassifier(ccp_alpha=0.0, class_weight=None, criterion='entropy',\n",
              "                       max_depth=None, max_features=None, max_leaf_nodes=None,\n",
              "                       min_impurity_decrease=0.0, min_impurity_split=None,\n",
              "                       min_samples_leaf=1, min_samples_split=2,\n",
              "                       min_weight_fraction_leaf=0.0, presort='deprecated',\n",
              "                       random_state=0, splitter='best')"
            ]
          },
          "metadata": {},
          "execution_count": 157
        }
      ]
    },
    {
      "cell_type": "code",
      "metadata": {
        "id": "-26zFtBQoEIO"
      },
      "source": [
        "y_pred_dtENTROPY = clf_dtENTROPY.predict(X_test)"
      ],
      "execution_count": 158,
      "outputs": []
    },
    {
      "cell_type": "markdown",
      "metadata": {
        "id": "w-RYWT4si-db"
      },
      "source": [
        "### 7. Random Forest Classifier"
      ]
    },
    {
      "cell_type": "markdown",
      "metadata": {
        "id": "YOydm0pRmI6S"
      },
      "source": [
        "  #### 7.2 with **ENTROPY**"
      ]
    },
    {
      "cell_type": "code",
      "metadata": {
        "colab": {
          "base_uri": "https://localhost:8080/"
        },
        "id": "jHUraLMCjOSM",
        "outputId": "87c6f391-ef3c-4255-8e39-be7243bf5428"
      },
      "source": [
        "from sklearn.ensemble import RandomForestClassifier\n",
        "clf_rfcGINI = RandomForestClassifier(n_estimators = 10, criterion = 'gini', random_state = 0)\n",
        "clf_rfcGINI.fit(X_train, y_train)"
      ],
      "execution_count": 159,
      "outputs": [
        {
          "output_type": "execute_result",
          "data": {
            "text/plain": [
              "RandomForestClassifier(bootstrap=True, ccp_alpha=0.0, class_weight=None,\n",
              "                       criterion='gini', max_depth=None, max_features='auto',\n",
              "                       max_leaf_nodes=None, max_samples=None,\n",
              "                       min_impurity_decrease=0.0, min_impurity_split=None,\n",
              "                       min_samples_leaf=1, min_samples_split=2,\n",
              "                       min_weight_fraction_leaf=0.0, n_estimators=10,\n",
              "                       n_jobs=None, oob_score=False, random_state=0, verbose=0,\n",
              "                       warm_start=False)"
            ]
          },
          "metadata": {},
          "execution_count": 159
        }
      ]
    },
    {
      "cell_type": "code",
      "metadata": {
        "id": "Bu8UaqP6zlPe"
      },
      "source": [
        "y_pred_rfcGINI = clf_rfcGINI.predict(X_test)"
      ],
      "execution_count": 160,
      "outputs": []
    },
    {
      "cell_type": "markdown",
      "metadata": {
        "id": "dgFgKoPRmKRr"
      },
      "source": [
        "  #### 7.2 with **ENTROPY**"
      ]
    },
    {
      "cell_type": "code",
      "metadata": {
        "colab": {
          "base_uri": "https://localhost:8080/"
        },
        "id": "2TCGrwk1mA_3",
        "outputId": "772e011d-e3a6-4bed-d03d-ba479b13a8ba"
      },
      "source": [
        "from sklearn.ensemble import RandomForestClassifier\n",
        "clf_rfcENTROPY = RandomForestClassifier(n_estimators = 10, criterion = 'entropy', random_state = 0)\n",
        "clf_rfcENTROPY.fit(X_train, y_train)"
      ],
      "execution_count": 161,
      "outputs": [
        {
          "output_type": "execute_result",
          "data": {
            "text/plain": [
              "RandomForestClassifier(bootstrap=True, ccp_alpha=0.0, class_weight=None,\n",
              "                       criterion='entropy', max_depth=None, max_features='auto',\n",
              "                       max_leaf_nodes=None, max_samples=None,\n",
              "                       min_impurity_decrease=0.0, min_impurity_split=None,\n",
              "                       min_samples_leaf=1, min_samples_split=2,\n",
              "                       min_weight_fraction_leaf=0.0, n_estimators=10,\n",
              "                       n_jobs=None, oob_score=False, random_state=0, verbose=0,\n",
              "                       warm_start=False)"
            ]
          },
          "metadata": {},
          "execution_count": 161
        }
      ]
    },
    {
      "cell_type": "code",
      "metadata": {
        "id": "N_B8d4Whzo-j"
      },
      "source": [
        "y_pred_rfcENTROPY = clf_rfcENTROPY.predict(X_test)"
      ],
      "execution_count": 172,
      "outputs": []
    },
    {
      "cell_type": "markdown",
      "metadata": {
        "id": "s13m34QWmq5-"
      },
      "source": [
        "## Evaluating the model performance with Confusion Matrix"
      ]
    },
    {
      "cell_type": "code",
      "metadata": {
        "colab": {
          "base_uri": "https://localhost:8080/"
        },
        "id": "9dBppozBnMN3",
        "outputId": "a65155d6-15b0-436c-f2d7-517a30368fb7"
      },
      "source": [
        "pip install -U prettytable"
      ],
      "execution_count": 173,
      "outputs": [
        {
          "output_type": "stream",
          "name": "stdout",
          "text": [
            "Requirement already satisfied: prettytable in /usr/local/lib/python3.7/dist-packages (2.4.0)\n",
            "Requirement already satisfied: importlib-metadata in /usr/local/lib/python3.7/dist-packages (from prettytable) (4.8.2)\n",
            "Requirement already satisfied: wcwidth in /usr/local/lib/python3.7/dist-packages (from prettytable) (0.2.5)\n",
            "Requirement already satisfied: typing-extensions>=3.6.4 in /usr/local/lib/python3.7/dist-packages (from importlib-metadata->prettytable) (3.10.0.2)\n",
            "Requirement already satisfied: zipp>=0.5 in /usr/local/lib/python3.7/dist-packages (from importlib-metadata->prettytable) (3.6.0)\n"
          ]
        }
      ]
    },
    {
      "cell_type": "code",
      "metadata": {
        "id": "Q0qRr3wU1Wv5"
      },
      "source": [
        "from prettytable import PrettyTable\n",
        "from sklearn.metrics import confusion_matrix, accuracy_score"
      ],
      "execution_count": 174,
      "outputs": []
    },
    {
      "cell_type": "code",
      "metadata": {
        "colab": {
          "base_uri": "https://localhost:8080/"
        },
        "id": "f3QFdjgf1-3a",
        "outputId": "c926de5e-d530-467b-bd5b-bb1f0d40e4f6"
      },
      "source": [
        "evaluataionTable = PrettyTable()\n",
        "evaluataionTable.field_names = [\"Model\", \"Confusion Matrix\", \"Accuracy\"]\n",
        "evaluataionTable.add_row([\"Logistic Regression\", confusion_matrix(y_test, y_pred_lr), accuracy_score(y_test, y_pred_lr)])\n",
        "evaluataionTable.add_row([\"------------------------------\", \"------------------\", \"--------------------\"])\n",
        "evaluataionTable.add_row([\"K Nearest Neighbor\", confusion_matrix(y_test, y_pred_knn), accuracy_score(y_test, y_pred_knn)])\n",
        "evaluataionTable.add_row([\"------------------------------\", \"------------------\", \"--------------------\"])\n",
        "evaluataionTable.add_row([\"Support Vector Machine\", confusion_matrix(y_test, y_pred_svc), accuracy_score(y_test, y_pred_svc)])\n",
        "evaluataionTable.add_row([\"------------------------------\", \"------------------\", \"--------------------\"])\n",
        "evaluataionTable.add_row([\"SVM Kernel\", confusion_matrix(y_test, y_pred_kernelSVC), accuracy_score(y_test, y_pred_kernelSVC)])\n",
        "evaluataionTable.add_row([\"------------------------------\", \"------------------\", \"--------------------\"])\n",
        "evaluataionTable.add_row([\"Naïve Bayes\", confusion_matrix(y_test, y_pred_nb), accuracy_score(y_test, y_pred_nb)])\n",
        "evaluataionTable.add_row([\"------------------------------\", \"------------------\", \"--------------------\"])\n",
        "evaluataionTable.add_row([\"Decision Tree (with GINI)\", confusion_matrix(y_test, y_pred_dtGINI), accuracy_score(y_test, y_pred_dtGINI)])\n",
        "evaluataionTable.add_row([\"------------------------------\", \"------------------\", \"--------------------\"])\n",
        "evaluataionTable.add_row([\"Decision Tree (with Entropy)\", confusion_matrix(y_test, y_pred_dtENTROPY), accuracy_score(y_test, y_pred_dtENTROPY)])\n",
        "evaluataionTable.add_row([\"------------------------------\", \"------------------\", \"--------------------\"])\n",
        "evaluataionTable.add_row([\"Random Forest (with GINI)\", confusion_matrix(y_test, y_pred_rfcGINI), accuracy_score(y_test, y_pred_rfcGINI)])\n",
        "evaluataionTable.add_row([\"------------------------------\", \"------------------\", \"--------------------\"])\n",
        "evaluataionTable.add_row([\"Random Forest (with ENTROPY)\", confusion_matrix(y_test, y_pred_rfcENTROPY), accuracy_score(y_test, y_pred_rfcENTROPY)])\n",
        "print(evaluataionTable)"
      ],
      "execution_count": 175,
      "outputs": [
        {
          "output_type": "stream",
          "name": "stdout",
          "text": [
            "+--------------------------------+--------------------+----------------------+\n",
            "|             Model              |  Confusion Matrix  |       Accuracy       |\n",
            "+--------------------------------+--------------------+----------------------+\n",
            "|      Logistic Regression       |     [[103   4]     |  0.9473684210526315  |\n",
            "|                                |     [  5  59]]     |                      |\n",
            "| ------------------------------ | ------------------ | -------------------- |\n",
            "|       K Nearest Neighbor       |     [[103   4]     |  0.9473684210526315  |\n",
            "|                                |     [  5  59]]     |                      |\n",
            "| ------------------------------ | ------------------ | -------------------- |\n",
            "|     Support Vector Machine     |     [[102   5]     |  0.9415204678362573  |\n",
            "|                                |     [  5  59]]     |                      |\n",
            "| ------------------------------ | ------------------ | -------------------- |\n",
            "|           SVM Kernel           |     [[101   6]     |  0.9473684210526315  |\n",
            "|                                |     [  3  61]]     |                      |\n",
            "| ------------------------------ | ------------------ | -------------------- |\n",
            "|          Naïve Bayes           |      [[99  8]      |  0.9415204678362573  |\n",
            "|                                |      [ 2 62]]      |                      |\n",
            "| ------------------------------ | ------------------ | -------------------- |\n",
            "|   Decision Tree (with GINI)    |     [[105   2]     |  0.9532163742690059  |\n",
            "|                                |     [  6  58]]     |                      |\n",
            "| ------------------------------ | ------------------ | -------------------- |\n",
            "|  Decision Tree (with Entropy)  |     [[104   3]     |  0.9590643274853801  |\n",
            "|                                |     [  4  60]]     |                      |\n",
            "| ------------------------------ | ------------------ | -------------------- |\n",
            "|   Random Forest (with GINI)    |     [[104   3]     |  0.935672514619883   |\n",
            "|                                |     [  8  56]]     |                      |\n",
            "| ------------------------------ | ------------------ | -------------------- |\n",
            "|  Random Forest (with ENTROPY)  |     [[104   3]     |  0.9532163742690059  |\n",
            "|                                |     [  5  59]]     |                      |\n",
            "+--------------------------------+--------------------+----------------------+\n"
          ]
        }
      ]
    },
    {
      "cell_type": "markdown",
      "metadata": {
        "id": "ToqWn0Wq1MPw"
      },
      "source": [
        "### Confusion Matrix : "
      ]
    },
    {
      "cell_type": "code",
      "metadata": {
        "colab": {
          "base_uri": "https://localhost:8080/"
        },
        "id": "RvajCxim1MBm",
        "outputId": "154b7783-1efc-4da3-988f-d0c44f346679"
      },
      "source": [
        "confusionMatrixTable = PrettyTable()\n",
        "confusionMatrixTable.field_names = [\"Model\", \"Accuracy\"]\n",
        "confusionMatrixTable.add_row([\"Logistic Regression\", confusion_matrix(y_test, y_pred_lr)])\n",
        "confusionMatrixTable.add_row([\"K Nearest Neighbor\", confusion_matrix(y_test, y_pred_knn)])\n",
        "confusionMatrixTable.add_row([\"Support Vector Machine\", confusion_matrix(y_test, y_pred_svc)])\n",
        "confusionMatrixTable.add_row([\"SVM Kernel\", confusion_matrix(y_test, y_pred_kernelSVC)])\n",
        "confusionMatrixTable.add_row([\"Naïve Bayes\", confusion_matrix(y_test, y_pred_nb)])\n",
        "confusionMatrixTable.add_row([\"Decision Tree (with GINI)\", confusion_matrix(y_test, y_pred_dtGINI)])\n",
        "confusionMatrixTable.add_row([\"Decision Tree (with Entropy)\", confusion_matrix(y_test, y_pred_dtENTROPY)])\n",
        "confusionMatrixTable.add_row([\"Random Forest (with GINI)\", confusion_matrix(y_test, y_pred_rfcGINI)])\n",
        "confusionMatrixTable.add_row([\"Random Forest (with ENTROPY)\", confusion_matrix(y_test, y_pred_rfcENTROPY)])\n",
        "print(confusionMatrixTable)"
      ],
      "execution_count": 176,
      "outputs": [
        {
          "output_type": "stream",
          "name": "stdout",
          "text": [
            "+------------------------------+-------------+\n",
            "|            Model             |   Accuracy  |\n",
            "+------------------------------+-------------+\n",
            "|     Logistic Regression      |  [[103   4] |\n",
            "|                              |  [  5  59]] |\n",
            "|      K Nearest Neighbor      |  [[103   4] |\n",
            "|                              |  [  5  59]] |\n",
            "|    Support Vector Machine    |  [[102   5] |\n",
            "|                              |  [  5  59]] |\n",
            "|          SVM Kernel          |  [[101   6] |\n",
            "|                              |  [  3  61]] |\n",
            "|         Naïve Bayes          |   [[99  8]  |\n",
            "|                              |   [ 2 62]]  |\n",
            "|  Decision Tree (with GINI)   |  [[105   2] |\n",
            "|                              |  [  6  58]] |\n",
            "| Decision Tree (with Entropy) |  [[104   3] |\n",
            "|                              |  [  4  60]] |\n",
            "|  Random Forest (with GINI)   |  [[104   3] |\n",
            "|                              |  [  8  56]] |\n",
            "| Random Forest (with ENTROPY) |  [[104   3] |\n",
            "|                              |  [  5  59]] |\n",
            "+------------------------------+-------------+\n"
          ]
        }
      ]
    },
    {
      "cell_type": "markdown",
      "metadata": {
        "id": "134DDfMG1FfZ"
      },
      "source": [
        "### Accuracy Table : "
      ]
    },
    {
      "cell_type": "code",
      "metadata": {
        "colab": {
          "base_uri": "https://localhost:8080/"
        },
        "id": "jv5J_KzOnOzH",
        "outputId": "e86d0eb9-9519-4407-eba4-1ff0061509b7"
      },
      "source": [
        "AccuracyTable = PrettyTable()\n",
        "AccuracyTable.field_names = [\"Model\", \"Accuracy\"]\n",
        "AccuracyTable.add_row([\"Logistic Regression\", accuracy_score(y_test, y_pred_lr)])\n",
        "AccuracyTable.add_row([\"K Nearest Neighbor\", accuracy_score(y_test, y_pred_knn)])\n",
        "AccuracyTable.add_row([\"Support Vector Machine\", accuracy_score(y_test, y_pred_svc)])\n",
        "AccuracyTable.add_row([\"SVM Kernel\", accuracy_score(y_test, y_pred_kernelSVC)])\n",
        "AccuracyTable.add_row([\"Naïve Bayes\", accuracy_score(y_test, y_pred_nb)])\n",
        "AccuracyTable.add_row([\"Decision Tree (with GINI)\", accuracy_score(y_test, y_pred_dtGINI)])\n",
        "AccuracyTable.add_row([\"Decision Tree (with Entropy)\", accuracy_score(y_test, y_pred_dtENTROPY)])\n",
        "AccuracyTable.add_row([\"Random Forest (with GINI)\", accuracy_score(y_test, y_pred_rfcGINI)])\n",
        "AccuracyTable.add_row([\"Random Forest (with ENTROPY)\", accuracy_score(y_test, y_pred_rfcENTROPY)])\n",
        "print(AccuracyTable)"
      ],
      "execution_count": 177,
      "outputs": [
        {
          "output_type": "stream",
          "name": "stdout",
          "text": [
            "+------------------------------+--------------------+\n",
            "|            Model             |      Accuracy      |\n",
            "+------------------------------+--------------------+\n",
            "|     Logistic Regression      | 0.9473684210526315 |\n",
            "|      K Nearest Neighbor      | 0.9473684210526315 |\n",
            "|    Support Vector Machine    | 0.9415204678362573 |\n",
            "|          SVM Kernel          | 0.9473684210526315 |\n",
            "|         Naïve Bayes          | 0.9415204678362573 |\n",
            "|  Decision Tree (with GINI)   | 0.9532163742690059 |\n",
            "| Decision Tree (with Entropy) | 0.9590643274853801 |\n",
            "|  Random Forest (with GINI)   | 0.935672514619883  |\n",
            "| Random Forest (with ENTROPY) | 0.9532163742690059 |\n",
            "+------------------------------+--------------------+\n"
          ]
        }
      ]
    }
  ]
}