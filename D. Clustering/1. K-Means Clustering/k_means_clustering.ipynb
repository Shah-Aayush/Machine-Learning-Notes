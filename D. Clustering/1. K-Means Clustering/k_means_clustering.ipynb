{
  "nbformat": 4,
  "nbformat_minor": 0,
  "metadata": {
    "colab": {
      "name": "k_means_clustering.ipynb",
      "provenance": [],
      "collapsed_sections": []
    },
    "kernelspec": {
      "name": "python3",
      "display_name": "Python 3"
    }
  },
  "cells": [
    {
      "cell_type": "markdown",
      "metadata": {
        "id": "i_paGd_yLbgH"
      },
      "source": [
        "# K-Means Clustering"
      ]
    },
    {
      "cell_type": "markdown",
      "metadata": {
        "id": "q8_h4BcD6n6Y"
      },
      "source": [
        "Dataset information : \n",
        "- The  Lower the `Spending Score`, the lower the customer tends to spend. the Higher the score, the higher the customer spends.\n",
        "\n",
        "- Here we want to identify some pattern. We don't know what to predict."
      ]
    },
    {
      "cell_type": "markdown",
      "metadata": {
        "id": "nAuqPwTnLipr"
      },
      "source": [
        "## Importing the libraries"
      ]
    },
    {
      "cell_type": "code",
      "metadata": {
        "id": "yUXGcC4KLmcL"
      },
      "source": [
        "import numpy as np\n",
        "import pandas as pd\n",
        "import matplotlib.pyplot as plt"
      ],
      "execution_count": 14,
      "outputs": []
    },
    {
      "cell_type": "markdown",
      "metadata": {
        "id": "5LciKOr8Lo5O"
      },
      "source": [
        "## Importing the dataset\n",
        "\n",
        "- Here last column is not actually a `Dependent` variable. so we have to modify some things from our data preprocssing templates (  *conventional method will not apply here:(*  )\n",
        "- Here in order to visualise the clusters, we are only selecting two features. but in general, we have to take all the features in `X`."
      ]
    },
    {
      "cell_type": "code",
      "metadata": {
        "id": "bKbp0tDG8wPp"
      },
      "source": [
        "dataset = pd.read_csv('Mall_Customers.csv')\n",
        "X = dataset.iloc[:, [3,4]].values  # dataset.iloc[:,3:5].values\n",
        "# X = dataset.iloc[:, 1:].values   # In general implementation"
      ],
      "execution_count": 15,
      "outputs": []
    },
    {
      "cell_type": "code",
      "metadata": {
        "colab": {
          "base_uri": "https://localhost:8080/",
          "height": 204
        },
        "id": "SkaWuWx2cAor",
        "outputId": "37edce07-a63e-4329-8675-697119791b24"
      },
      "source": [
        "dataset.head()"
      ],
      "execution_count": 16,
      "outputs": [
        {
          "output_type": "execute_result",
          "data": {
            "text/html": [
              "<div>\n",
              "<style scoped>\n",
              "    .dataframe tbody tr th:only-of-type {\n",
              "        vertical-align: middle;\n",
              "    }\n",
              "\n",
              "    .dataframe tbody tr th {\n",
              "        vertical-align: top;\n",
              "    }\n",
              "\n",
              "    .dataframe thead th {\n",
              "        text-align: right;\n",
              "    }\n",
              "</style>\n",
              "<table border=\"1\" class=\"dataframe\">\n",
              "  <thead>\n",
              "    <tr style=\"text-align: right;\">\n",
              "      <th></th>\n",
              "      <th>CustomerID</th>\n",
              "      <th>Genre</th>\n",
              "      <th>Age</th>\n",
              "      <th>Annual Income (k$)</th>\n",
              "      <th>Spending Score (1-100)</th>\n",
              "    </tr>\n",
              "  </thead>\n",
              "  <tbody>\n",
              "    <tr>\n",
              "      <th>0</th>\n",
              "      <td>1</td>\n",
              "      <td>Male</td>\n",
              "      <td>19</td>\n",
              "      <td>15</td>\n",
              "      <td>39</td>\n",
              "    </tr>\n",
              "    <tr>\n",
              "      <th>1</th>\n",
              "      <td>2</td>\n",
              "      <td>Male</td>\n",
              "      <td>21</td>\n",
              "      <td>15</td>\n",
              "      <td>81</td>\n",
              "    </tr>\n",
              "    <tr>\n",
              "      <th>2</th>\n",
              "      <td>3</td>\n",
              "      <td>Female</td>\n",
              "      <td>20</td>\n",
              "      <td>16</td>\n",
              "      <td>6</td>\n",
              "    </tr>\n",
              "    <tr>\n",
              "      <th>3</th>\n",
              "      <td>4</td>\n",
              "      <td>Female</td>\n",
              "      <td>23</td>\n",
              "      <td>16</td>\n",
              "      <td>77</td>\n",
              "    </tr>\n",
              "    <tr>\n",
              "      <th>4</th>\n",
              "      <td>5</td>\n",
              "      <td>Female</td>\n",
              "      <td>31</td>\n",
              "      <td>17</td>\n",
              "      <td>40</td>\n",
              "    </tr>\n",
              "  </tbody>\n",
              "</table>\n",
              "</div>"
            ],
            "text/plain": [
              "   CustomerID   Genre  Age  Annual Income (k$)  Spending Score (1-100)\n",
              "0           1    Male   19                  15                      39\n",
              "1           2    Male   21                  15                      81\n",
              "2           3  Female   20                  16                       6\n",
              "3           4  Female   23                  16                      77\n",
              "4           5  Female   31                  17                      40"
            ]
          },
          "metadata": {},
          "execution_count": 16
        }
      ]
    },
    {
      "cell_type": "markdown",
      "metadata": {
        "id": "SxKutI279q3g"
      },
      "source": [
        "- Here we don't need to split the dataset in testing and training set. as we are only finding patterns in our dataset. here we don't have to predict anything too."
      ]
    },
    {
      "cell_type": "markdown",
      "metadata": {
        "id": "nWC2EWp2Lx5G"
      },
      "source": [
        "## Using the elbow method to find the optimal number of clusters\n",
        "- with **WCSS** method\n",
        "- `10` iterations for 10 clusters\n",
        "- Here init method is by default `k-means++`, which is to avoid random initialization trap."
      ]
    },
    {
      "cell_type": "code",
      "metadata": {
        "id": "kOIsAsEd8wnX"
      },
      "source": [
        "from sklearn.cluster import KMeans\n",
        "wcss = []\n",
        "for i in range(10):\n",
        "  kmeans = KMeans(n_clusters=i+1, init='k-means++', random_state=42)   # Here init method is by default 'k-means++'. which is to avoid random initialization trap.\n",
        "  kmeans.fit(X)\n",
        "  wcss.append(kmeans.inertia_)    # `inertia_` is same value as `WCSS`."
      ],
      "execution_count": 17,
      "outputs": []
    },
    {
      "cell_type": "code",
      "metadata": {
        "colab": {
          "base_uri": "https://localhost:8080/",
          "height": 295
        },
        "id": "B3PYkLD0ecV6",
        "outputId": "6520a2f8-9c83-49bc-fb7f-19724ecd7181"
      },
      "source": [
        "plt.plot(range(1,11),wcss, color='blue')\n",
        "plt.title('The Elbow Method')\n",
        "plt.xlabel('The numbere of clusters')\n",
        "plt.ylabel('The WCSS values')\n",
        "plt.show()"
      ],
      "execution_count": 18,
      "outputs": [
        {
          "output_type": "display_data",
          "data": {
            "image/png": "[encoded data removed]",
            "text/plain": [
              "<Figure size 432x288 with 1 Axes>"
            ]
          },
          "metadata": {
            "needs_background": "light"
          }
        }
      ]
    },
    {
      "cell_type": "markdown",
      "metadata": {
        "id": "EIxQbN8De1eh"
      },
      "source": [
        "- From number `5`, the WCSS values decreases slowly. so `5` is the best!"
      ]
    },
    {
      "cell_type": "markdown",
      "metadata": {
        "id": "VgT0mANLL4Nz"
      },
      "source": [
        "## Training the K-Means model on the dataset\n",
        "- Fixing cluster value as `5`"
      ]
    },
    {
      "cell_type": "code",
      "metadata": {
        "id": "Hpv2o-Sw8xCd"
      },
      "source": [
        "kmeans = KMeans(n_clusters=5, init='k-means++', random_state=42)   # Here init method is by default 'k-means++'. which is to avoid random initialization trap.\n",
        "y_kmeans = kmeans.fit_predict(X)  # Not only fits/trains the model, it also predict and returns the dependent variable.\n",
        "\n",
        "# kmeans.fit(X) \n",
        "# y_kmeans = kmeans.predict(X) "
      ],
      "execution_count": 20,
      "outputs": []
    },
    {
      "cell_type": "code",
      "metadata": {
        "colab": {
          "base_uri": "https://localhost:8080/"
        },
        "id": "n4trhx0Qf3pm",
        "outputId": "a85e4f78-4f08-478c-a7e7-d2428d9a32f1"
      },
      "source": [
        "print(y_kmeans)"
      ],
      "execution_count": 21,
      "outputs": [
        {
          "output_type": "stream",
          "name": "stdout",
          "text": [
            "[2 3 2 3 2 3 2 3 2 3 2 3 2 3 2 3 2 3 2 3 2 3 2 3 2 3 2 3 2 3 2 3 2 3 2 3 2\n",
            " 3 2 3 2 3 2 0 2 3 0 0 0 0 0 0 0 0 0 0 0 0 0 0 0 0 0 0 0 0 0 0 0 0 0 0 0 0\n",
            " 0 0 0 0 0 0 0 0 0 0 0 0 0 0 0 0 0 0 0 0 0 0 0 0 0 0 0 0 0 0 0 0 0 0 0 0 0\n",
            " 0 0 0 0 0 0 0 0 0 0 0 0 4 1 4 0 4 1 4 1 4 0 4 1 4 1 4 1 4 1 4 0 4 1 4 1 4\n",
            " 1 4 1 4 1 4 1 4 1 4 1 4 1 4 1 4 1 4 1 4 1 4 1 4 1 4 1 4 1 4 1 4 1 4 1 4 1\n",
            " 4 1 4 1 4 1 4 1 4 1 4 1 4 1 4]\n"
          ]
        }
      ]
    },
    {
      "cell_type": "markdown",
      "metadata": {
        "id": "e7YrS1JAMFnm"
      },
      "source": [
        "## Visualising the clusters"
      ]
    },
    {
      "cell_type": "markdown",
      "metadata": {
        "id": "1vJF8vcYhFJ8"
      },
      "source": [
        "- RAW Visualisation : "
      ]
    },
    {
      "cell_type": "code",
      "metadata": {
        "colab": {
          "base_uri": "https://localhost:8080/",
          "height": 265
        },
        "id": "eMa51XiK8xZJ",
        "outputId": "2939da78-c944-4423-afa5-c3ac891044ae"
      },
      "source": [
        "plt.scatter(X[:,0],X[:,1], color='red')\n",
        "plt.scatter(kmeans.cluster_centers_[:,0], kmeans.cluster_centers_[:,1], color='blue')\n",
        "plt.title('Clusters of customers')\n",
        "plt.xlabel('Annual Income ($...k)')\n",
        "plt.ylabel('Spending Score (1-100)')\n",
        "plt.show()"
      ],
      "execution_count": 23,
      "outputs": [
        {
          "output_type": "display_data",
          "data": {
            "image/png": "[encoded data removed]",
            "text/plain": [
              "<Figure size 432x288 with 1 Axes>"
            ]
          },
          "metadata": {
            "needs_background": "light"
          }
        }
      ]
    },
    {
      "cell_type": "markdown",
      "metadata": {
        "id": "8gqH4lhxhIsJ"
      },
      "source": [
        "- Clusters/Section Visualisation\n",
        "  - `s` means size of the point\n",
        "  - `label` is to give title to the specific cluster\n",
        "  - `cluster_centers_` is a 2D array which has all the calculated centroid points."
      ]
    },
    {
      "cell_type": "code",
      "metadata": {
        "colab": {
          "base_uri": "https://localhost:8080/",
          "height": 295
        },
        "id": "dIhFDwfDhM_d",
        "outputId": "b2c1b4e5-b9bb-4399-8940-555b6fe15c42"
      },
      "source": [
        "plt.scatter(X[y_kmeans==0, 0], X[y_kmeans==0, 1], color='red', s=100, label='Cluster 1')    # `s` means size of the point\n",
        "plt.scatter(X[y_kmeans==1, 0], X[y_kmeans==1, 1], color='blue', s=100, label='Cluster 2')\n",
        "plt.scatter(X[y_kmeans==2, 0], X[y_kmeans==2, 1], color='green', s=100, label='Cluster 3')\n",
        "plt.scatter(X[y_kmeans==3, 0], X[y_kmeans==3, 1], color='cyan', s=100, label='Cluster 4')\n",
        "plt.scatter(X[y_kmeans==4, 0], X[y_kmeans==4, 1], color='magenta', s=100, label='Cluster 5')\n",
        "plt.scatter(kmeans.cluster_centers_[:,0], kmeans.cluster_centers_[:,1], color='black', s=300, label='Centroid')\n",
        "plt.title('Clusters of customers')\n",
        "plt.xlabel('Annual Income ($...k)')\n",
        "plt.ylabel('Spending Score (1-100)')\n",
        "plt.legend()\n",
        "plt.show()"
      ],
      "execution_count": 27,
      "outputs": [
        {
          "output_type": "display_data",
          "data": {
            "image/png": "[encoded data removed]",
            "text/plain": [
              "<Figure size 432x288 with 1 Axes>"
            ]
          },
          "metadata": {
            "needs_background": "light"
          }
        }
      ]
    },
    {
      "cell_type": "markdown",
      "metadata": {
        "id": "LAa8DgzfjG2l"
      },
      "source": [
        "- **Conclusion**\n",
        "  - Here the cluster number 5 is reach family of customer so we can target them more\n",
        "  - Considering MALL ethics, we should not target much the cluster 4 family, as their income is very low and they spend very.\n",
        "  - We can start targting the cluster 2 family as their income is high but not spending more; we will never target the cluster 1 family as their income is low and they also tends not to spending much."
      ]
    }
  ]
}