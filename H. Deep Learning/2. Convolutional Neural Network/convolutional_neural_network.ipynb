{
  "cells": [
    {
      "cell_type": "markdown",
      "metadata": {
        "id": "3DR-eO17geWu"
      },
      "source": [
        "# Convolutional Neural Network"
      ]
    },
    {
      "cell_type": "markdown",
      "metadata": {
        "id": "EMefrVPCg-60"
      },
      "source": [
        "### Importing the libraries"
      ]
    },
    {
      "cell_type": "code",
      "execution_count": 13,
      "metadata": {
        "id": "LtSR1i-4VJlx"
      },
      "outputs": [],
      "source": [
        "import tensorflow as  tf\n",
        "from keras.preprocessing.image import ImageDataGenerator"
      ]
    },
    {
      "cell_type": "code",
      "execution_count": 14,
      "metadata": {
        "colab": {
          "base_uri": "https://localhost:8080/",
          "height": 35
        },
        "id": "TnisH5dbVU57",
        "outputId": "7abe1fd2-d3ba-4e18-91ff-2592093afb28"
      },
      "outputs": [
        {
          "data": {
            "text/plain": [
              "'2.7.0'"
            ]
          },
          "execution_count": 14,
          "metadata": {},
          "output_type": "execute_result"
        }
      ],
      "source": [
        "tf.__version__"
      ]
    },
    {
      "cell_type": "markdown",
      "metadata": {
        "id": "oxQxCBWyoGPE"
      },
      "source": [
        "## Part 1 - Data Preprocessing\n",
        "- Applying some transformation on training set to avoid overfitting.\n",
        "- Image Augmentation\n",
        "- After transformation we get variety of images in training set.\n",
        "- Transformation we'll be using : \n",
        "  - `shear_range`\n",
        "  - `zoom_range`\n",
        "  - `horizontal_flip`\n",
        "- Normalization is compulsory in CNN."
      ]
    },
    {
      "cell_type": "markdown",
      "metadata": {
        "id": "MvE-heJNo3GG"
      },
      "source": [
        "### Preprocessing the Training set\n",
        "- Image augmentation is only applied on training set."
      ]
    },
    {
      "cell_type": "code",
      "execution_count": 15,
      "metadata": {
        "id": "qDMqol82b7rP"
      },
      "outputs": [
        {
          "name": "stdout",
          "output_type": "stream",
          "text": [
            "Found 8000 images belonging to 2 classes.\n"
          ]
        }
      ],
      "source": [
        "train_datagen = ImageDataGenerator(\n",
        "    rescale=1./255,  # feature scalling | Normalization\n",
        "    shear_range=0.2,\n",
        "    zoom_range=0.2,\n",
        "    horizontal_flip=True,\n",
        ")\n",
        "training_set = train_datagen.flow_from_directory(\n",
        "    'dataset/training_set',     # path\n",
        "    target_size=(64,64),\n",
        "    batch_size=32,\n",
        "    class_mode='binary',\n",
        ")"
      ]
    },
    {
      "cell_type": "markdown",
      "metadata": {
        "id": "mrCMmGw9pHys"
      },
      "source": [
        "### Preprocessing the Test set\n",
        "- Like, what we have done in previous section with `fit_transform` (training) and `transform` (testing). we are doing just the same thing here."
      ]
    },
    {
      "cell_type": "code",
      "execution_count": 16,
      "metadata": {
        "id": "8xiFmI7xcPtf"
      },
      "outputs": [
        {
          "name": "stdout",
          "output_type": "stream",
          "text": [
            "Found 2000 images belonging to 2 classes.\n"
          ]
        }
      ],
      "source": [
        "test_datagen = ImageDataGenerator(rescale=1./255)\n",
        "test_set = test_datagen.flow_from_directory(\n",
        "    'dataset/test_set',\n",
        "    target_size=(64,64),\n",
        "    batch_size=32,\n",
        "    class_mode='binary',\n",
        ")"
      ]
    },
    {
      "cell_type": "markdown",
      "metadata": {
        "id": "af8O4l90gk7B"
      },
      "source": [
        "## Part 2 - Building the CNN"
      ]
    },
    {
      "cell_type": "markdown",
      "metadata": {
        "id": "ces1gXY2lmoX"
      },
      "source": [
        "### Initialising the CNN"
      ]
    },
    {
      "cell_type": "code",
      "execution_count": 17,
      "metadata": {
        "id": "ldKgmUjnIynD"
      },
      "outputs": [],
      "source": [
        "cnn = tf.keras.models.Sequential()"
      ]
    },
    {
      "cell_type": "markdown",
      "metadata": {
        "id": "u5YJj_XMl5LF"
      },
      "source": [
        "### Step 1 - Convolution\n",
        "-  we have to specify inputshape in our first layer\n",
        "  - if we are working with black and white images then this input shape should be `(64,64,1)`. but here we have RGB values so we are considering it to be `3`."
      ]
    },
    {
      "cell_type": "code",
      "execution_count": 18,
      "metadata": {
        "id": "8HmLAlttI8MK"
      },
      "outputs": [],
      "source": [
        "cnn.add(tf.keras.layers.Conv2D(filters=32, kernel_size=3, activation='relu', input_shape=[64, 64, 3]))"
      ]
    },
    {
      "cell_type": "markdown",
      "metadata": {
        "id": "tf87FpvxmNOJ"
      },
      "source": [
        "### Step 2 - Pooling\n",
        "-  applying `MAX` pooling"
      ]
    },
    {
      "cell_type": "code",
      "execution_count": 19,
      "metadata": {
        "id": "UQUP2bvhJ_A2"
      },
      "outputs": [],
      "source": [
        "cnn.add(tf.keras.layers.MaxPool2D(pool_size=2,strides=2))"
      ]
    },
    {
      "cell_type": "markdown",
      "metadata": {
        "id": "xaTOgD8rm4mU"
      },
      "source": [
        "### Adding a second convolutional layer"
      ]
    },
    {
      "cell_type": "code",
      "execution_count": 20,
      "metadata": {
        "id": "JGSQU_LhKmQ4"
      },
      "outputs": [],
      "source": [
        "cnn.add(tf.keras.layers.Conv2D(filters=32, kernel_size=3, activation='relu'))    # `input_shape` parameter is removed as it is only required in first layer\n",
        "cnn.add(tf.keras.layers.MaxPool2D(pool_size=2,strides=2))"
      ]
    },
    {
      "cell_type": "markdown",
      "metadata": {
        "id": "tmiEuvTunKfk"
      },
      "source": [
        "### Step 3 - Flattening"
      ]
    },
    {
      "cell_type": "code",
      "execution_count": 21,
      "metadata": {
        "id": "5l2N7eqMKzQS"
      },
      "outputs": [],
      "source": [
        "cnn.add(tf.keras.layers.Flatten())"
      ]
    },
    {
      "cell_type": "markdown",
      "metadata": {
        "id": "dAoSECOm203v"
      },
      "source": [
        "### Step 4 - Full Connection\n",
        "- `units` : number of hidden neurons\n",
        "- `activation` : as long as we haven't reached the output layer, we should keep using `relu` activation *(Rectified Linear Unit)*"
      ]
    },
    {
      "cell_type": "code",
      "execution_count": 22,
      "metadata": {
        "id": "BNPBE5ojLaE8"
      },
      "outputs": [],
      "source": [
        "cnn.add(tf.keras.layers.Dense(units=128, activation='relu'))"
      ]
    },
    {
      "cell_type": "markdown",
      "metadata": {
        "id": "yTldFvbX28Na"
      },
      "source": [
        "### Step 5 - Output Layer\n",
        "- `units` : Number of hidden units are **1** here, as we are doing binary classification of **cats/dogs**.\n",
        "- for output layer we should use `Sigmoid` as we are  doing binary classification. *(for multiclass classification, we should use `softmax` activation function)*"
      ]
    },
    {
      "cell_type": "code",
      "execution_count": 23,
      "metadata": {
        "id": "4H9YprTDME4x"
      },
      "outputs": [],
      "source": [
        "cnn.add(tf.keras.layers.Dense(units=1,activation='sigmoid'))"
      ]
    },
    {
      "cell_type": "markdown",
      "metadata": {
        "id": "D6XkI90snSDl"
      },
      "source": [
        "## Part 3 - Training the CNN"
      ]
    },
    {
      "cell_type": "markdown",
      "metadata": {
        "id": "vfrFQACEnc6i"
      },
      "source": [
        "### Compiling the CNN"
      ]
    },
    {
      "cell_type": "code",
      "execution_count": 24,
      "metadata": {
        "id": "0YY7eyGRMolN"
      },
      "outputs": [],
      "source": [
        "cnn.compile(optimizer='adam', loss='binary_crossentropy', metrics=['accuracy'])"
      ]
    },
    {
      "cell_type": "markdown",
      "metadata": {
        "id": "ehS-v3MIpX2h"
      },
      "source": [
        "### Training the CNN on the Training set and evaluating it on the Test set\n",
        "- 250 means, we have 8000 images from which we made 32 images' batch so `8000/32=250`"
      ]
    },
    {
      "cell_type": "code",
      "execution_count": 26,
      "metadata": {
        "id": "8WD4nIhkMpBX"
      },
      "outputs": [
        {
          "name": "stdout",
          "output_type": "stream",
          "text": [
            "Epoch 1/25\n",
            "250/250 [==============================] - 45s 178ms/step - loss: 0.6700 - accuracy: 0.5924 - val_loss: 0.6377 - val_accuracy: 0.6235\n",
            "Epoch 2/25\n",
            "250/250 [==============================] - 36s 144ms/step - loss: 0.6103 - accuracy: 0.6671 - val_loss: 0.5598 - val_accuracy: 0.7150\n",
            "Epoch 3/25\n",
            "250/250 [==============================] - 41s 164ms/step - loss: 0.5634 - accuracy: 0.7094 - val_loss: 0.5276 - val_accuracy: 0.7415\n",
            "Epoch 4/25\n",
            "250/250 [==============================] - 40s 160ms/step - loss: 0.5272 - accuracy: 0.7352 - val_loss: 0.5253 - val_accuracy: 0.7400\n",
            "Epoch 5/25\n",
            "250/250 [==============================] - 37s 147ms/step - loss: 0.5083 - accuracy: 0.7508 - val_loss: 0.5420 - val_accuracy: 0.7210\n",
            "Epoch 6/25\n",
            "250/250 [==============================] - 37s 147ms/step - loss: 0.4865 - accuracy: 0.7646 - val_loss: 0.5201 - val_accuracy: 0.7430\n",
            "Epoch 7/25\n",
            "250/250 [==============================] - 35s 141ms/step - loss: 0.4692 - accuracy: 0.7747 - val_loss: 0.5198 - val_accuracy: 0.7580\n",
            "Epoch 8/25\n",
            "250/250 [==============================] - 39s 157ms/step - loss: 0.4625 - accuracy: 0.7769 - val_loss: 0.4903 - val_accuracy: 0.7705\n",
            "Epoch 9/25\n",
            "250/250 [==============================] - 38s 151ms/step - loss: 0.4417 - accuracy: 0.7885 - val_loss: 0.5247 - val_accuracy: 0.7520\n",
            "Epoch 10/25\n",
            "250/250 [==============================] - 36s 143ms/step - loss: 0.4382 - accuracy: 0.7950 - val_loss: 0.4866 - val_accuracy: 0.7665\n",
            "Epoch 11/25\n",
            "250/250 [==============================] - 35s 141ms/step - loss: 0.4187 - accuracy: 0.8073 - val_loss: 0.4832 - val_accuracy: 0.7840\n",
            "Epoch 12/25\n",
            "250/250 [==============================] - 38s 152ms/step - loss: 0.4051 - accuracy: 0.8141 - val_loss: 0.4637 - val_accuracy: 0.7960\n",
            "Epoch 13/25\n",
            "250/250 [==============================] - 39s 155ms/step - loss: 0.3888 - accuracy: 0.8227 - val_loss: 0.4867 - val_accuracy: 0.7855\n",
            "Epoch 14/25\n",
            "250/250 [==============================] - 39s 155ms/step - loss: 0.3742 - accuracy: 0.8322 - val_loss: 0.4661 - val_accuracy: 0.7915\n",
            "Epoch 15/25\n",
            "250/250 [==============================] - 39s 157ms/step - loss: 0.3575 - accuracy: 0.8421 - val_loss: 0.4609 - val_accuracy: 0.8030\n",
            "Epoch 16/25\n",
            "250/250 [==============================] - 36s 145ms/step - loss: 0.3473 - accuracy: 0.8431 - val_loss: 0.4936 - val_accuracy: 0.7915\n",
            "Epoch 17/25\n",
            "250/250 [==============================] - 34s 135ms/step - loss: 0.3384 - accuracy: 0.8565 - val_loss: 0.4582 - val_accuracy: 0.7980\n",
            "Epoch 18/25\n",
            "250/250 [==============================] - 34s 134ms/step - loss: 0.3214 - accuracy: 0.8625 - val_loss: 0.4718 - val_accuracy: 0.8005\n",
            "Epoch 19/25\n",
            "250/250 [==============================] - 34s 135ms/step - loss: 0.3119 - accuracy: 0.8656 - val_loss: 0.4846 - val_accuracy: 0.7940\n",
            "Epoch 20/25\n",
            "250/250 [==============================] - 34s 134ms/step - loss: 0.2918 - accuracy: 0.8781 - val_loss: 0.5427 - val_accuracy: 0.7780\n",
            "Epoch 21/25\n",
            "250/250 [==============================] - 34s 134ms/step - loss: 0.2848 - accuracy: 0.8799 - val_loss: 0.5238 - val_accuracy: 0.7980\n",
            "Epoch 22/25\n",
            "250/250 [==============================] - 34s 136ms/step - loss: 0.2649 - accuracy: 0.8886 - val_loss: 0.5865 - val_accuracy: 0.7810\n",
            "Epoch 23/25\n",
            "250/250 [==============================] - 34s 135ms/step - loss: 0.2528 - accuracy: 0.8930 - val_loss: 0.5263 - val_accuracy: 0.7975\n",
            "Epoch 24/25\n",
            "250/250 [==============================] - 35s 140ms/step - loss: 0.2357 - accuracy: 0.9040 - val_loss: 0.5493 - val_accuracy: 0.7960\n",
            "Epoch 25/25\n",
            "250/250 [==============================] - 34s 136ms/step - loss: 0.2321 - accuracy: 0.9021 - val_loss: 0.5537 - val_accuracy: 0.7995\n"
          ]
        },
        {
          "data": {
            "text/plain": [
              "<keras.callbacks.History at 0x7f804b63a850>"
            ]
          },
          "execution_count": 26,
          "metadata": {},
          "output_type": "execute_result"
        }
      ],
      "source": [
        "cnn.fit(x=training_set, validation_data=test_set, epochs=25)"
      ]
    },
    {
      "cell_type": "markdown",
      "metadata": {
        "id": "U3PZasO0006Z"
      },
      "source": [
        "## Part 4 - Making a single prediction\n",
        "- as we have changed the `target_size` of the image while training, we also have to change the size of the to-be-predicted image.\n",
        "- as we have given images in batches of size `32` in training, we also have to give this one image in batch format in order to predict the class.\n",
        "\n",
        "- here : \n",
        "  - `1` : Dog\n",
        "  - `0` : Cat"
      ]
    },
    {
      "cell_type": "code",
      "execution_count": 29,
      "metadata": {
        "id": "LShCRi_CMpq4"
      },
      "outputs": [],
      "source": [
        "import numpy as np\n",
        "from keras.preprocessing import image \n",
        "def predict_image(img_path):\n",
        "  test_image = image.load_img(img_path, target_size=(64, 64))\n",
        "  test_image = image.img_to_array(test_image)   # this is a numpy array\n",
        "  test_image = np.expand_dims(test_image, axis=0)   # adding batch dimention as first dimention\n",
        "  result = cnn.predict(test_image)\n",
        "  training_set.class_indices\n",
        "\n",
        "  # here this `result` variable also has batch dimention.\n",
        "  if result[0][0]==1:\n",
        "    prediction='dog'\n",
        "  else:\n",
        "    prediction='cat'\n",
        "  return prediction"
      ]
    },
    {
      "cell_type": "code",
      "execution_count": 30,
      "metadata": {
        "id": "cxz3K3t8Rlh0"
      },
      "outputs": [
        {
          "name": "stdout",
          "output_type": "stream",
          "text": [
            "1 dog\n",
            "2 cat\n"
          ]
        }
      ],
      "source": [
        "print('1',predict_image('dataset/single_prediction/cat_or_dog_1.jpg'))\n",
        "print('2',predict_image('dataset/single_prediction/cat_or_dog_2.jpg'))"
      ]
    }
  ],
  "metadata": {
    "colab": {
      "collapsed_sections": [],
      "name": "convolutional_neural_network.ipynb",
      "provenance": []
    },
    "kernelspec": {
      "display_name": "Python 3",
      "name": "python3"
    },
    "language_info": {
      "codemirror_mode": {
        "name": "ipython",
        "version": 3
      },
      "file_extension": ".py",
      "mimetype": "text/x-python",
      "name": "python",
      "nbconvert_exporter": "python",
      "pygments_lexer": "ipython3",
      "version": "3.9.0"
    }
  },
  "nbformat": 4,
  "nbformat_minor": 0
}
