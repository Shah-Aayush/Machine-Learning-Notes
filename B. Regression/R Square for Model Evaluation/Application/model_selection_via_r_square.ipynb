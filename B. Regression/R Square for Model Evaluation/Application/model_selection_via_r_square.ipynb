{
  "nbformat": 4,
  "nbformat_minor": 0,
  "metadata": {
    "colab": {
      "name": "model_selection_via_r_square.ipynb",
      "provenance": [],
      "collapsed_sections": []
    },
    "kernelspec": {
      "name": "python3",
      "display_name": "Python 3"
    },
    "language_info": {
      "name": "python"
    }
  },
  "cells": [
    {
      "cell_type": "markdown",
      "metadata": {
        "id": "WXLsPxfkH8pv"
      },
      "source": [
        "## Importing the Libraries"
      ]
    },
    {
      "cell_type": "code",
      "metadata": {
        "id": "08AbiMaqG-56"
      },
      "source": [
        "import numpy as np\n",
        "import pandas as pd\n",
        "import matplotlib.pyplot as plt"
      ],
      "execution_count": 49,
      "outputs": []
    },
    {
      "cell_type": "markdown",
      "metadata": {
        "id": "UZ5K10sdINZX"
      },
      "source": [
        "## Importing the Dataset"
      ]
    },
    {
      "cell_type": "code",
      "metadata": {
        "id": "X4MAhb-zIPI8"
      },
      "source": [
        "dataset = pd.read_csv('Data.csv')\n",
        "X = dataset.iloc[:,:-1].values\n",
        "y = dataset.iloc[:,-1].values"
      ],
      "execution_count": 50,
      "outputs": []
    },
    {
      "cell_type": "markdown",
      "metadata": {
        "id": "4G3K258BIm4s"
      },
      "source": [
        "## Splitting the dataset into the Training set and Test set"
      ]
    },
    {
      "cell_type": "code",
      "metadata": {
        "id": "_JQ6WikkIrPX"
      },
      "source": [
        "from sklearn.model_selection import train_test_split\n",
        "X_train, X_test, y_train, y_test = train_test_split(X, y, test_size=0.2, random_state=0)"
      ],
      "execution_count": 51,
      "outputs": []
    },
    {
      "cell_type": "markdown",
      "metadata": {
        "id": "56k_F-7_Iqkb"
      },
      "source": [
        "## Training the regression models on the training set"
      ]
    },
    {
      "cell_type": "markdown",
      "metadata": {
        "id": "ZtfnkK0dJFHs"
      },
      "source": [
        "### 1. Decision Tree Regression"
      ]
    },
    {
      "cell_type": "code",
      "metadata": {
        "colab": {
          "base_uri": "https://localhost:8080/"
        },
        "id": "2L7xwPg6JJHr",
        "outputId": "a19c9f40-0d01-4fd4-9c0b-bccac180f1ba"
      },
      "source": [
        "from sklearn.tree import DecisionTreeRegressor\n",
        "decisionTree_regressor = DecisionTreeRegressor(random_state=0)\n",
        "decisionTree_regressor.fit(X_train, y_train)"
      ],
      "execution_count": 52,
      "outputs": [
        {
          "output_type": "execute_result",
          "data": {
            "text/plain": [
              "DecisionTreeRegressor(ccp_alpha=0.0, criterion='mse', max_depth=None,\n",
              "                      max_features=None, max_leaf_nodes=None,\n",
              "                      min_impurity_decrease=0.0, min_impurity_split=None,\n",
              "                      min_samples_leaf=1, min_samples_split=2,\n",
              "                      min_weight_fraction_leaf=0.0, presort='deprecated',\n",
              "                      random_state=0, splitter='best')"
            ]
          },
          "metadata": {},
          "execution_count": 52
        }
      ]
    },
    {
      "cell_type": "code",
      "metadata": {
        "id": "Nxc7aYqAK9hG"
      },
      "source": [
        "y_pred_decisionTree = decisionTree_regressor.predict(X_test)"
      ],
      "execution_count": 53,
      "outputs": []
    },
    {
      "cell_type": "markdown",
      "metadata": {
        "id": "kiPkZDU7JU5T"
      },
      "source": [
        "### 2. Multiple Linear Regression"
      ]
    },
    {
      "cell_type": "code",
      "metadata": {
        "colab": {
          "base_uri": "https://localhost:8080/"
        },
        "id": "xUJC2XXDJevL",
        "outputId": "b21bea3f-70e1-4fc9-8919-e96dc6478cfd"
      },
      "source": [
        "from sklearn.linear_model import LinearRegression\n",
        "linear_regressor = LinearRegression()\n",
        "linear_regressor.fit(X_train, y_train)"
      ],
      "execution_count": 54,
      "outputs": [
        {
          "output_type": "execute_result",
          "data": {
            "text/plain": [
              "LinearRegression(copy_X=True, fit_intercept=True, n_jobs=None, normalize=False)"
            ]
          },
          "metadata": {},
          "execution_count": 54
        }
      ]
    },
    {
      "cell_type": "code",
      "metadata": {
        "id": "YdfC6UL4LHcm"
      },
      "source": [
        "y_pred_multipleLinear = linear_regressor.predict(X_test)"
      ],
      "execution_count": 55,
      "outputs": []
    },
    {
      "cell_type": "markdown",
      "metadata": {
        "id": "_WMEH0LEJYHC"
      },
      "source": [
        "### 3. Polynomial Regression"
      ]
    },
    {
      "cell_type": "code",
      "metadata": {
        "colab": {
          "base_uri": "https://localhost:8080/"
        },
        "id": "XFY-2d6YJp_2",
        "outputId": "3fb63609-cc8b-44ed-eb06-0dd930c16602"
      },
      "source": [
        "from sklearn.preprocessing import PolynomialFeatures\n",
        "from sklearn.linear_model import LinearRegression\n",
        "poly_reg = PolynomialFeatures(degree=4)   # set degree\n",
        "X_poly = poly_reg.fit_transform(X_train)\n",
        "polynomial_regressor = LinearRegression()\n",
        "polynomial_regressor.fit(X_poly, y_train)"
      ],
      "execution_count": 56,
      "outputs": [
        {
          "output_type": "execute_result",
          "data": {
            "text/plain": [
              "LinearRegression(copy_X=True, fit_intercept=True, n_jobs=None, normalize=False)"
            ]
          },
          "metadata": {},
          "execution_count": 56
        }
      ]
    },
    {
      "cell_type": "code",
      "metadata": {
        "id": "k_7lN6WNLLKo"
      },
      "source": [
        "y_pred_polynomial = polynomial_regressor.predict(poly_reg.transform(X_test))"
      ],
      "execution_count": 57,
      "outputs": []
    },
    {
      "cell_type": "markdown",
      "metadata": {
        "id": "Kl3zYoZfLZGY"
      },
      "source": [
        "### 4. Support Vector Regression (SVR)"
      ]
    },
    {
      "cell_type": "code",
      "metadata": {
        "id": "8VuZAeD5Li5c"
      },
      "source": [
        "# Preprocessing (Feature Scaling) and reshaping : \n",
        "y_svr = dataset.iloc[:,-1].values.reshape(len(y), 1)\n",
        "X_train_svr, X_test_svr, y_train_svr, y_test_svr = train_test_split(X, y_svr, test_size = 0.2, random_state = 0)\n",
        "\n",
        "from sklearn.preprocessing import StandardScaler\n",
        "sc_X = StandardScaler()\n",
        "sc_y = StandardScaler()\n",
        "X_train_svr = sc_X.fit_transform(X_train_svr)\n",
        "y_train_svr = sc_y.fit_transform(y_train_svr)"
      ],
      "execution_count": 58,
      "outputs": []
    },
    {
      "cell_type": "code",
      "metadata": {
        "colab": {
          "base_uri": "https://localhost:8080/"
        },
        "id": "HpRThTdwLd4O",
        "outputId": "a35d4d26-5bc0-4a5a-de11-85c1f5e8b805"
      },
      "source": [
        "from sklearn.svm import SVR\n",
        "svr_regressor = SVR(kernel = 'rbf')\n",
        "svr_regressor.fit(X_train_svr, y_train_svr)"
      ],
      "execution_count": 59,
      "outputs": [
        {
          "output_type": "stream",
          "name": "stderr",
          "text": [
            "/usr/local/lib/python3.7/dist-packages/sklearn/utils/validation.py:760: DataConversionWarning: A column-vector y was passed when a 1d array was expected. Please change the shape of y to (n_samples, ), for example using ravel().\n",
            "  y = column_or_1d(y, warn=True)\n"
          ]
        },
        {
          "output_type": "execute_result",
          "data": {
            "text/plain": [
              "SVR(C=1.0, cache_size=200, coef0=0.0, degree=3, epsilon=0.1, gamma='scale',\n",
              "    kernel='rbf', max_iter=-1, shrinking=True, tol=0.001, verbose=False)"
            ]
          },
          "metadata": {},
          "execution_count": 59
        }
      ]
    },
    {
      "cell_type": "code",
      "metadata": {
        "id": "gBVe_PGBLdvE"
      },
      "source": [
        "y_pred_svr = sc_y.inverse_transform(svr_regressor.predict(sc_X.transform(X_test_svr)))"
      ],
      "execution_count": 60,
      "outputs": []
    },
    {
      "cell_type": "markdown",
      "metadata": {
        "id": "eVFl9BqCLdIx"
      },
      "source": [
        "### 5. Random Forest Regression"
      ]
    },
    {
      "cell_type": "code",
      "metadata": {
        "colab": {
          "base_uri": "https://localhost:8080/"
        },
        "id": "lsn96-eBMsQp",
        "outputId": "1383d742-d439-4bff-d21b-6bdc22769683"
      },
      "source": [
        "from sklearn.ensemble import RandomForestRegressor\n",
        "randomForest_regressor = RandomForestRegressor(n_estimators=10, random_state=0)\n",
        "randomForest_regressor.fit(X_train, y_train)"
      ],
      "execution_count": 61,
      "outputs": [
        {
          "output_type": "execute_result",
          "data": {
            "text/plain": [
              "RandomForestRegressor(bootstrap=True, ccp_alpha=0.0, criterion='mse',\n",
              "                      max_depth=None, max_features='auto', max_leaf_nodes=None,\n",
              "                      max_samples=None, min_impurity_decrease=0.0,\n",
              "                      min_impurity_split=None, min_samples_leaf=1,\n",
              "                      min_samples_split=2, min_weight_fraction_leaf=0.0,\n",
              "                      n_estimators=10, n_jobs=None, oob_score=False,\n",
              "                      random_state=0, verbose=0, warm_start=False)"
            ]
          },
          "metadata": {},
          "execution_count": 61
        }
      ]
    },
    {
      "cell_type": "code",
      "metadata": {
        "id": "XLT4jEMAM8hz"
      },
      "source": [
        "y_pred_randomForest = randomForest_regressor.predict(X_test)"
      ],
      "execution_count": 62,
      "outputs": []
    },
    {
      "cell_type": "markdown",
      "metadata": {
        "id": "P_vfesKFNFcw"
      },
      "source": [
        "# Evaluating the model performance"
      ]
    },
    {
      "cell_type": "code",
      "metadata": {
        "colab": {
          "base_uri": "https://localhost:8080/"
        },
        "id": "MZb4HR5oNO9X",
        "outputId": "8cfa094f-102f-4b6b-fb43-88cba680547b"
      },
      "source": [
        "pip install -U prettytable"
      ],
      "execution_count": 63,
      "outputs": [
        {
          "output_type": "stream",
          "name": "stdout",
          "text": [
            "Requirement already satisfied: prettytable in /usr/local/lib/python3.7/dist-packages (2.4.0)\n",
            "Requirement already satisfied: wcwidth in /usr/local/lib/python3.7/dist-packages (from prettytable) (0.2.5)\n",
            "Requirement already satisfied: importlib-metadata in /usr/local/lib/python3.7/dist-packages (from prettytable) (4.8.1)\n",
            "Requirement already satisfied: typing-extensions>=3.6.4 in /usr/local/lib/python3.7/dist-packages (from importlib-metadata->prettytable) (3.7.4.3)\n",
            "Requirement already satisfied: zipp>=0.5 in /usr/local/lib/python3.7/dist-packages (from importlib-metadata->prettytable) (3.6.0)\n"
          ]
        }
      ]
    },
    {
      "cell_type": "code",
      "metadata": {
        "colab": {
          "base_uri": "https://localhost:8080/"
        },
        "id": "xr9utLBNNJgZ",
        "outputId": "9f6b49e5-415d-4fd5-dd79-1b508972fd26"
      },
      "source": [
        "from prettytable import PrettyTable\n",
        "from sklearn.metrics import r2_score\n",
        "evaluationTable = PrettyTable()\n",
        "evaluationTable.field_names = [\"Model\", \"R2 score\"]\n",
        "evaluationTable.add_row([\"Decision Tree\", r2_score(y_test, y_pred_decisionTree)])\n",
        "evaluationTable.add_row([\"Multiple Linear Regression\", r2_score(y_test, y_pred_multipleLinear)])\n",
        "evaluationTable.add_row([\"Polynomial Regression\", r2_score(y_test, y_pred_polynomial)])\n",
        "evaluationTable.add_row([\"SVR\", r2_score(y_test, y_pred_svr)])\n",
        "evaluationTable.add_row([\"Random Forest Regression\", r2_score(y_test, y_pred_randomForest)])\n",
        "print(evaluationTable)"
      ],
      "execution_count": 64,
      "outputs": [
        {
          "output_type": "stream",
          "name": "stdout",
          "text": [
            "+----------------------------+--------------------+\n",
            "|           Model            |      R2 score      |\n",
            "+----------------------------+--------------------+\n",
            "|       Decision Tree        | 0.9226091050550043 |\n",
            "| Multiple Linear Regression | 0.9325315554761302 |\n",
            "|   Polynomial Regression    | 0.9458192606428238 |\n",
            "|            SVR             | 0.9480784049986258 |\n",
            "|  Random Forest Regression  | 0.9615980699813017 |\n",
            "+----------------------------+--------------------+\n"
          ]
        }
      ]
    },
    {
      "cell_type": "markdown",
      "metadata": {
        "id": "dAduHcDBOhrF"
      },
      "source": [
        "So, The closer the `R2 score` to `1`, the better the model.\n",
        "- Here **Random Forest Regression**  has highest R2 score! so it is the best model here."
      ]
    }
  ]
}